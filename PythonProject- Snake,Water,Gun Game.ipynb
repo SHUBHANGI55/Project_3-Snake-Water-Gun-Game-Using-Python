{
 "cells": [
  {
   "cell_type": "markdown",
   "id": "57a0aca0",
   "metadata": {},
   "source": [
    "## 1. Write a prog capable of playing SNAKE, WATER, GUN Game\n",
    "\n"
   ]
  },
  {
   "cell_type": "code",
   "execution_count": 2,
   "id": "63a575aa",
   "metadata": {},
   "outputs": [
    {
     "name": "stdout",
     "output_type": "stream",
     "text": [
      "WELCOME TO THE SNAKE, WATER, GUN GAME \n",
      " LETS BEGIN THE GAME !!!\n",
      "\n",
      " computer turn : snake(s), water(w), gun(g) \n",
      " computer chooses, now next is your turn\n",
      "\n",
      " your turn : snake(s), water(w), gun(g) -> w\n",
      "\n",
      " computer choose-> s\n",
      "\n",
      " you choose-> w\n",
      "\n",
      " \t YOU LOOSE THE GAME, BETTER LUCK NEXT TIME \n"
     ]
    }
   ],
   "source": [
    "# 1. Write a prog capable of playing SNAKE, WATER, GUN Game\n",
    "\n",
    "import random\n",
    "\n",
    "def gamewin(comp, n):\n",
    "    #if both computer n player value r equal thn declare tie\n",
    "    if comp== n:\n",
    "        return None\n",
    "    #check for all possibility n return whether player loose or win\n",
    "    elif comp== 's':\n",
    "        if n=='g':\n",
    "            return True\n",
    "        else:\n",
    "            return False\n",
    "    elif comp== 'w':\n",
    "        if n== 's':\n",
    "            return True\n",
    "        else:\n",
    "            return False\n",
    "    elif comp== 'g':\n",
    "        if n== 'w':\n",
    "            return True\n",
    "        else:\n",
    "            return False\n",
    "        \n",
    "print(\"WELCOME TO THE SNAKE, WATER, GUN GAME \\n LETS BEGIN THE GAME !!!\")        \n",
    "print(\"\\n computer turn : snake(s), water(w), gun(g) \")\n",
    "randNo = random.randint(1,3)\n",
    "\n",
    "if randNo == 1:\n",
    "    comp='s'\n",
    "elif randNo == 2:\n",
    "    comp='w'\n",
    "elif randNo == 3:\n",
    "    comp='g'\n",
    "\n",
    "print(\" computer chooses, now next is your turn\")\n",
    "n= input(\"\\n your turn : snake(s), water(w), gun(g) -> \")\n",
    "\n",
    "a= gamewin(comp,n)\n",
    "print(f\"\\n computer choose-> {comp}\")\n",
    "print(f\"\\n you choose-> {n}\")\n",
    "\n",
    "if a==None:\n",
    "    print(\"\\n \\t GAME IS TIE !!!\")\n",
    "elif a:\n",
    "    print(\"\\n \\t CONGRATULATIONS, YOU WIN THE GAME \")\n",
    "else:\n",
    "    print(\"\\n \\t YOU LOOSE THE GAME, BETTER LUCK NEXT TIME \")"
   ]
  }
 ],
 "metadata": {
  "kernelspec": {
   "display_name": "Python 3 (ipykernel)",
   "language": "python",
   "name": "python3"
  },
  "language_info": {
   "codemirror_mode": {
    "name": "ipython",
    "version": 3
   },
   "file_extension": ".py",
   "mimetype": "text/x-python",
   "name": "python",
   "nbconvert_exporter": "python",
   "pygments_lexer": "ipython3",
   "version": "3.10.9"
  }
 },
 "nbformat": 4,
 "nbformat_minor": 5
}
